{
 "cells": [
  {
   "cell_type": "code",
   "execution_count": 1,
   "metadata": {
    "collapsed": true
   },
   "outputs": [
    {
     "name": "stderr",
     "output_type": "stream",
     "text": [
      "/Users/user/PycharmProjects/pythonProject1/venv/lib/python3.9/site-packages/urllib3/__init__.py:34: NotOpenSSLWarning: urllib3 v2 only supports OpenSSL 1.1.1+, currently the 'ssl' module is compiled with 'LibreSSL 2.8.3'. See: https://github.com/urllib3/urllib3/issues/3020\n",
      "  warnings.warn(\n"
     ]
    }
   ],
   "source": [
    "from pycoingecko import CoinGeckoAPI\n",
    "\n",
    "cg = CoinGeckoAPI()"
   ]
  },
  {
   "cell_type": "code",
   "execution_count": 2,
   "outputs": [
    {
     "name": "stdout",
     "output_type": "stream",
     "text": [
      "{'bitcoin': 42874, 'ethereum': 2566.79, 'tether': 0.999846, 'binancecoin': 302.34, 'solana': 96.58, 'ripple': 0.575353, 'usd-coin': 1.0, 'staked-ether': 2579.03, 'cardano': 0.548974, 'avalanche-2': 36.34}\n"
     ]
    }
   ],
   "source": [
    "# Get current spot rates for top ten by marketcap\n",
    "\n",
    "# Parameters for the API request\n",
    "parameters = {\n",
    "    'vs_currency': 'usd',\n",
    "    'order': 'market_cap_desc',\n",
    "    'per_page': 10,\n",
    "    'page': 1,\n",
    "    'sparkline': False,\n",
    "    'locale': 'en'\n",
    "}\n",
    "\n",
    "# Fetching market data from CoinGecko API\n",
    "coin_market_data = cg.get_coins_markets(**parameters)\n",
    "\n",
    "# Initialize a dictionary to store the current spot rate data\n",
    "current_spot_rate_dict = {}\n",
    "\n",
    "# Extracting current spot rate data and storing in the dictionary\n",
    "for coin in coin_market_data:\n",
    "    coin_id = coin['id']\n",
    "    current_price = coin['current_price']\n",
    "    current_spot_rate_dict[coin_id] = current_price\n",
    "\n",
    "# Display the dictionary\n",
    "print(current_spot_rate_dict)"
   ],
   "metadata": {
    "collapsed": false
   }
  },
  {
   "cell_type": "code",
   "execution_count": 3,
   "outputs": [
    {
     "name": "stdout",
     "output_type": "stream",
     "text": [
      "['bitcoin', 'ethereum', 'tether', 'binancecoin', 'solana', 'ripple', 'usd-coin', 'staked-ether', 'cardano', 'avalanche-2']\n"
     ]
    }
   ],
   "source": [
    "# Provided data\n",
    "data = coin_market_data\n",
    "\n",
    "# Extracting 'id' values\n",
    "cryptocurrency_ids = [item['id'] for item in data]\n",
    "\n",
    "# Printing extracted 'id' values\n",
    "print(cryptocurrency_ids)"
   ],
   "metadata": {
    "collapsed": false
   }
  },
  {
   "cell_type": "code",
   "execution_count": 4,
   "outputs": [
    {
     "name": "stdout",
     "output_type": "stream",
     "text": [
      "Spot Rate Data on 12-12-2023:\n",
      "bitcoin: 41200.96272610168\n",
      "ethereum: 2222.3468384000316\n",
      "tether: 0.9995940304535856\n",
      "binancecoin: 246.2875566773758\n",
      "solana: 70.20241559474354\n",
      "ripple: 0.6195589019990316\n",
      "usd-coin: 1.0008410353273296\n",
      "staked-ether: 2221.1298351226765\n",
      "cardano: 0.5503522027851744\n",
      "avalanche-2: 38.200052884551354\n"
     ]
    }
   ],
   "source": [
    "# Get historical spot rates from month ago\n",
    "import time\n",
    "from pycoingecko import CoinGeckoAPI\n",
    "\n",
    "# Initialize CoinGeckoAPI\n",
    "cg = CoinGeckoAPI()\n",
    "\n",
    "# List of cryptocurrency IDs you want to iterate through\n",
    "cryptocurrency_ids = ['bitcoin', 'ethereum', 'tether', 'binancecoin', 'solana', 'ripple', 'usd-coin', 'staked-ether', 'cardano', 'avalanche-2']\n",
    "\n",
    "# Dictionary to hold historical spot rate data\n",
    "month_spot_rate_data = {}\n",
    "\n",
    "# Loop through each cryptocurrency ID\n",
    "for crypto_id in cryptocurrency_ids:\n",
    "    try:\n",
    "        # Fetch historical data for each cryptocurrency\n",
    "        base_data = cg.get_coin_history_by_id(id=crypto_id, vs_currency='usd', date='12-12-2023', localization='false', community='false')\n",
    "\n",
    "        # Extract the spot rate for each cryptocurrency\n",
    "        base_spot_rate = base_data['market_data']['current_price']['usd']\n",
    "\n",
    "        # Add the spot rate data to the dictionary\n",
    "        month_spot_rate_data[crypto_id] = base_spot_rate\n",
    "\n",
    "    except Exception as e:\n",
    "        print(f\"Error fetching data for {crypto_id}: {e}\")\n",
    "\n",
    "    # Sleep to avoid hitting rate limits\n",
    "    time.sleep(3)\n",
    "\n",
    "# Print the spot rate data dictionary\n",
    "print(\"Spot Rate Data on 12-12-2023:\")\n",
    "for crypto_id, spot_rate in month_spot_rate_data.items():\n",
    "    print(f\"{crypto_id}: {spot_rate}\")\n"
   ],
   "metadata": {
    "collapsed": false
   }
  },
  {
   "cell_type": "code",
   "execution_count": 5,
   "outputs": [
    {
     "name": "stdout",
     "output_type": "stream",
     "text": [
      "The cryptocurrency index level is: 108.36921830966207\n"
     ]
    }
   ],
   "source": [
    "def calculate_crypto_index(base_level, weights, spot_rates_current, spot_rates_rebalance, divisor):\n",
    "    \"\"\"\n",
    "    Calculate the cryptocurrency index level.\n",
    "\n",
    "    :param base_level: The index level at the base date (float).\n",
    "    :param weights: List of weights for each digital asset (list of floats).\n",
    "    :param spot_rates_current: List of spot rates at the current time (list of floats).\n",
    "    :param spot_rates_rebalance: List of spot rates at the rebalance time (list of floats).\n",
    "    :param divisor: The divisor at the current time (float).\n",
    "    :return: The calculated index level (float).\n",
    "    \"\"\"\n",
    "    if not (len(weights) == len(spot_rates_current) == len(spot_rates_rebalance)):\n",
    "        raise ValueError(\"Length of weights, spot rates at current time, and spot rates at rebalance time must be equal.\")\n",
    "\n",
    "    # Calculate the sum of weighted rate changes\n",
    "    weighted_sum = sum(w * (current / rebalance) for w, current, rebalance in zip(weights, spot_rates_current, spot_rates_rebalance))\n",
    "\n",
    "    # Calculate the index level\n",
    "    index_level = base_level * weighted_sum / divisor\n",
    "\n",
    "    return index_level\n",
    "\n",
    "# Example usage:\n",
    "base_level = 1000  # Example base level\n",
    "weights = [0.1]*10  # Example weights for ten digital assets\n",
    "spot_rates_current = list(current_spot_rate_dict.values())  # Spot rates at current time\n",
    "spot_rates_rebalance = list(month_spot_rate_data.values())  # Spot rates at rebalance time\n",
    "divisor = 10  # Example divisor\n",
    "\n",
    "index_level = calculate_crypto_index(base_level, weights, spot_rates_current, spot_rates_rebalance, divisor)\n",
    "print(f\"The cryptocurrency index level is: {index_level}\")"
   ],
   "metadata": {
    "collapsed": false
   }
  },
  {
   "cell_type": "code",
   "execution_count": null,
   "outputs": [],
   "source": [],
   "metadata": {
    "collapsed": false
   }
  }
 ],
 "metadata": {
  "kernelspec": {
   "display_name": "Python 3",
   "language": "python",
   "name": "python3"
  },
  "language_info": {
   "codemirror_mode": {
    "name": "ipython",
    "version": 2
   },
   "file_extension": ".py",
   "mimetype": "text/x-python",
   "name": "python",
   "nbconvert_exporter": "python",
   "pygments_lexer": "ipython2",
   "version": "2.7.6"
  }
 },
 "nbformat": 4,
 "nbformat_minor": 0
}
